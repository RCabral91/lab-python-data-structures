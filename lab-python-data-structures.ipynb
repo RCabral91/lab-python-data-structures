{
 "cells": [
  {
   "cell_type": "markdown",
   "metadata": {
    "tags": []
   },
   "source": [
    "# Lab | Data Structures "
   ]
  },
  {
   "cell_type": "markdown",
   "metadata": {},
   "source": [
    "## Exercise: Managing Customer Orders\n",
    "\n",
    "As part of a business venture, you are starting an online store that sells various products. To ensure smooth operations, you need to develop a program that manages customer orders and inventory.\n",
    "\n",
    "Follow the steps below to complete the exercise:\n",
    "\n",
    "1. Define a list called `products` that contains the following items: \"t-shirt\", \"mug\", \"hat\", \"book\", \"keychain\".\n",
    "\n",
    "2. Create an empty dictionary called `inventory`.\n",
    "\n",
    "3. Ask the user to input the quantity of each product available in the inventory. Use the product names from the `products` list as keys in the `inventory` dictionary and assign the respective quantities as values.\n",
    "\n",
    "4. Create an empty set called `customer_orders`.\n",
    "\n",
    "5. Ask the user to input the name of three products that a customer wants to order (from those in the products list, meaning three products out of \"t-shirt\", \"mug\", \"hat\", \"book\" or \"keychain\". Add each product name to the `customer_orders` set.\n",
    "\n",
    "6. Print the products in the `customer_orders` set.\n",
    "\n",
    "7. Calculate the following order statistics:\n",
    "   - Total Products Ordered: The total number of products in the `customer_orders` set.\n",
    "   - Percentage of Products Ordered: The percentage of products ordered compared to the total available products.\n",
    "   \n",
    "   Store these statistics in a tuple called `order_status`.\n",
    "\n",
    "8. Print the order statistics using the following format:\n",
    "   ```\n",
    "   Order Statistics:\n",
    "   Total Products Ordered: <total_products_ordered>\n",
    "   Percentage of Products Ordered: <percentage_ordered>% \n",
    "   ```\n",
    "\n",
    "9. Update the inventory by subtracting 1 from the quantity of each product. Modify the `inventory` dictionary accordingly.\n",
    "\n",
    "10. Print the updated inventory, displaying the quantity of each product on separate lines.\n",
    "\n",
    "Solve the exercise by implementing the steps using the Python concepts of lists, dictionaries, sets, and basic input/output operations. "
   ]
  },
  {
   "cell_type": "code",
   "execution_count": 8,
   "metadata": {},
   "outputs": [
    {
     "name": "stdin",
     "output_type": "stream",
     "text": [
      "Enter the quantity of t-shirts:  1\n",
      "Enter the quantity of mugs:  1\n",
      "Enter the quantity of hats:  1\n",
      "Enter the quantity of books:  1\n",
      "Enter the quantity of keychains:  1\n",
      "Take order number 1:  mug\n",
      "Take order number 2:  hat\n",
      "Take order number 3:  book\n"
     ]
    },
    {
     "name": "stdout",
     "output_type": "stream",
     "text": [
      "{'book', 'hat', 'mug'}\n",
      "Order Statistics: \n",
      "Total products ordered: 3\n",
      "Percentage of products ordered: 60.0 %\n",
      "Updated inventory\n",
      "t-shirt: 1\n",
      "mug: 0\n",
      "hat: 0\n",
      "book: 0\n",
      "keychain: 1\n"
     ]
    }
   ],
   "source": [
    "products = [\"t-shirt\", \"mug\", \"hat\", \"book\", \"keychain\"]\n",
    "inventory = {}\n",
    "\n",
    "quantity_of_tshirt = int(input(\"Enter the quantity of t-shirts: \"))\n",
    "quantity_of_mug = int(input(\"Enter the quantity of mugs: \"))\n",
    "quantity_of_hat = int(input(\"Enter the quantity of hats: \"))\n",
    "quantity_of_book = int(input(\"Enter the quantity of books: \"))\n",
    "quantity_of_keychain = int(input(\"Enter the quantity of keychains: \"))\n",
    "\n",
    "inventory[\"t-shirt\"] = quantity_of_tshirt\n",
    "inventory[\"mug\"] = quantity_of_mug\n",
    "inventory[\"hat\"] = quantity_of_hat\n",
    "inventory[\"book\"] = quantity_of_book\n",
    "inventory[\"keychain\"] = quantity_of_keychain\n",
    "\n",
    "customer_orders = set()\n",
    "\n",
    "order1 = input(\"Take order number 1: \")\n",
    "order2 = input(\"Take order number 2: \")\n",
    "order3 = input(\"Take order number 3: \")\n",
    "\n",
    "\n",
    "customer_orders.add(order1)\n",
    "customer_orders.add(order2)\n",
    "customer_orders.add(order3)\n",
    "\n",
    "print(customer_orders)\n",
    "\n",
    "total_products_ordered = len(customer_orders)\n",
    "percentage_ordered = (len(customer_orders) / len(products)) * 100\n",
    "order_status = (total_products_ordered, percentage_ordered)\n",
    "print(f\"Order Statistics: \")\n",
    "print(f\"Total products ordered: {order_status[0]}\")\n",
    "print(f\"Percentage of products ordered: {order_status[1]} %\")\n",
    "\n",
    "for item in customer_orders:\n",
    "    if item in inventory:\n",
    "        inventory[item] -= 1\n",
    "\n",
    "print(\"Updated inventory\")\n",
    "for product in inventory:\n",
    "    print(f\"{product}: {inventory[product]}\")"
   ]
  },
  {
   "cell_type": "code",
   "execution_count": null,
   "metadata": {},
   "outputs": [],
   "source": []
  }
 ],
 "metadata": {
  "kernelspec": {
   "display_name": "Python 3",
   "language": "python",
   "name": "python3"
  },
  "language_info": {
   "codemirror_mode": {
    "name": "ipython",
    "version": 3
   },
   "file_extension": ".py",
   "mimetype": "text/x-python",
   "name": "python",
   "nbconvert_exporter": "python",
   "pygments_lexer": "ipython3",
   "version": "3.11.7"
  }
 },
 "nbformat": 4,
 "nbformat_minor": 4
}
